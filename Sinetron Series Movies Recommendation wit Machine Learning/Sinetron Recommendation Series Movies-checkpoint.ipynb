{
 "cells": [
  {
   "cell_type": "code",
   "execution_count": 1,
   "id": "f01fa7cb",
   "metadata": {},
   "outputs": [],
   "source": [
    "import numpy as np\n",
    "import pandas as pd\n",
    "import difflib\n",
    "from sklearn.feature_extraction.text import TfidfVectorizer\n",
    "from sklearn.metrics.pairwise import cosine_similarity"
   ]
  },
  {
   "cell_type": "code",
   "execution_count": 2,
   "id": "681dbf92",
   "metadata": {},
   "outputs": [],
   "source": [
    "movies_data = pd.read_csv(\"listsinetron.csv\")"
   ]
  },
  {
   "cell_type": "code",
   "execution_count": 3,
   "id": "47ab034b",
   "metadata": {},
   "outputs": [
    {
     "data": {
      "text/html": [
       "<div>\n",
       "<style scoped>\n",
       "    .dataframe tbody tr th:only-of-type {\n",
       "        vertical-align: middle;\n",
       "    }\n",
       "\n",
       "    .dataframe tbody tr th {\n",
       "        vertical-align: top;\n",
       "    }\n",
       "\n",
       "    .dataframe thead th {\n",
       "        text-align: right;\n",
       "    }\n",
       "</style>\n",
       "<table border=\"1\" class=\"dataframe\">\n",
       "  <thead>\n",
       "    <tr style=\"text-align: right;\">\n",
       "      <th></th>\n",
       "      <th>index</th>\n",
       "      <th>Tanggal Tayang</th>\n",
       "      <th>title</th>\n",
       "      <th>Pemeran</th>\n",
       "      <th>Genre</th>\n",
       "      <th>Produksi</th>\n",
       "    </tr>\n",
       "  </thead>\n",
       "  <tbody>\n",
       "    <tr>\n",
       "      <th>0</th>\n",
       "      <td>1</td>\n",
       "      <td>4 Januari</td>\n",
       "      <td>Aku Bukan Dia</td>\n",
       "      <td>Wendy WilsonRama MichaelDhea AnnisaAnanda Fatu...</td>\n",
       "      <td>Drama,  Romantis</td>\n",
       "      <td>Multivision Plus - (ANTV)</td>\n",
       "    </tr>\n",
       "    <tr>\n",
       "      <th>1</th>\n",
       "      <td>2</td>\n",
       "      <td>4 Januari</td>\n",
       "      <td>Pulung</td>\n",
       "      <td>Bima Sena Jerico GowtamaNasar AnuzAnnisa Aurelia</td>\n",
       "      <td>Drama komedi</td>\n",
       "      <td>MNC Pictures - (MNCTV)</td>\n",
       "    </tr>\n",
       "    <tr>\n",
       "      <th>2</th>\n",
       "      <td>3</td>\n",
       "      <td>6 Januari</td>\n",
       "      <td>Cinta Nikita</td>\n",
       "      <td>Nikita WillyRizky BillarKevin Kambey</td>\n",
       "      <td>Drama,  Percintaan, Komedi</td>\n",
       "      <td>SinemArt - (SCTV)</td>\n",
       "    </tr>\n",
       "    <tr>\n",
       "      <th>3</th>\n",
       "      <td>4</td>\n",
       "      <td>12 Januari</td>\n",
       "      <td>Buku Harian Seorang Istri</td>\n",
       "      <td>Zoe JacksonAntonio Blanco JrCinta Brian</td>\n",
       "      <td>Drama,  Percintaan</td>\n",
       "      <td>SinemArt - (SCTV)</td>\n",
       "    </tr>\n",
       "    <tr>\n",
       "      <th>4</th>\n",
       "      <td>5</td>\n",
       "      <td>12 Januari</td>\n",
       "      <td>Love Story the Series</td>\n",
       "      <td>Giorgino AbrahamYasmin Napper</td>\n",
       "      <td>Drama,  Percintaan</td>\n",
       "      <td>SinemArt - (SCTV)</td>\n",
       "    </tr>\n",
       "  </tbody>\n",
       "</table>\n",
       "</div>"
      ],
      "text/plain": [
       "   index Tanggal Tayang                      title  \\\n",
       "0      1      4 Januari              Aku Bukan Dia   \n",
       "1      2      4 Januari                     Pulung   \n",
       "2      3      6 Januari               Cinta Nikita   \n",
       "3      4     12 Januari  Buku Harian Seorang Istri   \n",
       "4      5     12 Januari      Love Story the Series   \n",
       "\n",
       "                                             Pemeran  \\\n",
       "0  Wendy WilsonRama MichaelDhea AnnisaAnanda Fatu...   \n",
       "1   Bima Sena Jerico GowtamaNasar AnuzAnnisa Aurelia   \n",
       "2               Nikita WillyRizky BillarKevin Kambey   \n",
       "3            Zoe JacksonAntonio Blanco JrCinta Brian   \n",
       "4                      Giorgino AbrahamYasmin Napper   \n",
       "\n",
       "                        Genre                   Produksi  \n",
       "0            Drama,  Romantis  Multivision Plus - (ANTV)  \n",
       "1                Drama komedi     MNC Pictures - (MNCTV)  \n",
       "2  Drama,  Percintaan, Komedi          SinemArt - (SCTV)  \n",
       "3          Drama,  Percintaan          SinemArt - (SCTV)  \n",
       "4          Drama,  Percintaan          SinemArt - (SCTV)  "
      ]
     },
     "execution_count": 3,
     "metadata": {},
     "output_type": "execute_result"
    }
   ],
   "source": [
    "movies_data.head()"
   ]
  },
  {
   "cell_type": "code",
   "execution_count": 4,
   "id": "645fecdb",
   "metadata": {},
   "outputs": [
    {
     "data": {
      "text/plain": [
       "(54, 6)"
      ]
     },
     "execution_count": 4,
     "metadata": {},
     "output_type": "execute_result"
    }
   ],
   "source": [
    "movies_data.shape"
   ]
  },
  {
   "cell_type": "code",
   "execution_count": 5,
   "id": "9bde12b9",
   "metadata": {},
   "outputs": [
    {
     "name": "stdout",
     "output_type": "stream",
     "text": [
      "['Pemeran', 'Genre', 'Produksi']\n"
     ]
    }
   ],
   "source": [
    "selected_features = ['Pemeran', 'Genre', 'Produksi']\n",
    "print(selected_features)"
   ]
  },
  {
   "cell_type": "code",
   "execution_count": 6,
   "id": "21cdaa39",
   "metadata": {},
   "outputs": [],
   "source": [
    "for feature in selected_features:\n",
    "    movies_data[feature] = movies_data[feature].fillna('')"
   ]
  },
  {
   "cell_type": "code",
   "execution_count": 7,
   "id": "f8eef3f4",
   "metadata": {},
   "outputs": [
    {
     "name": "stdout",
     "output_type": "stream",
     "text": [
      "0     Drama,  Romantis Wendy WilsonRama MichaelDhea ...\n",
      "1     Drama komedi Bima Sena Jerico GowtamaNasar Anu...\n",
      "2     Drama,  Percintaan, Komedi Nikita WillyRizky B...\n",
      "3     Drama,  Percintaan Zoe JacksonAntonio Blanco J...\n",
      "4     Drama,  Percintaan Giorgino AbrahamYasmin Napp...\n",
      "5     Drama,  Percintaan Rizky BillarLesti AndryaniE...\n",
      "6     Drama Masayu AnastasiaTemmy RahadiGeorgina And...\n",
      "7     Horor,  Supranatural,  Drama komedi Rizky Bill...\n",
      "8     Laga,  Fantasi Nova ElizaKevin TarorehShofia S...\n",
      "9     Drama,  Keluarga Jonathan FrizzyRirin Dwi Ariy...\n",
      "10    Drama,Komedi Rifky BalweelBobby MaulanaAli Fik...\n",
      "11    Drama, Komedi Romantis, Religi Ali SyakiebMarg...\n",
      "12    Komedi Farhan Zainal MuttaqinApoyIhsan Bustomi...\n",
      "13    Komedi Epy KusnandarFajar HidayatullahAbenk Ma...\n",
      "14    Drama, Fantasi, Komedi Romantis, Religi Michel...\n",
      "15    Komedi Deddy MizwarSyakir DaulayBetari Ayu Cit...\n",
      "16    Roman, Komedi Adinda AzaniLavicky Nicholas Cit...\n",
      "17    Fantasi, Roman Rayn WijayaErsya AureliaAnrez A...\n",
      "18    Kolosal, Laga, Fantasi Alwi AssegafRico Verald...\n",
      "19    Drama, Roman Lea CiarachelPanji SaputraZora Vi...\n",
      "20    Roman, Drama Stefan WilliamImmanuel Caesar Hit...\n",
      "21    Roman, Drama Aliando SyariefSitha MarinoErdin ...\n",
      "22    Fantasi,  Drama Cita CitataBryan Mckenzie Vero...\n",
      "23    Drama, Komedi Kevin JulioYunita SiregarDian Si...\n",
      "24    Drama, Roman Andi AnnisaPanji SaputraMetta Per...\n",
      "25    Komedi, Laga Nasar Anuz Jameelah Saleem Alessi...\n",
      "26    Drama, Laga Zacky ZimahRey BongAsha SharaJefan...\n",
      "27    Drama, Komedi Latief SitepuMerry MustafOchi Ro...\n",
      "28    Drama, Laga Andi SultanFadlan MuhammadNoel Lon...\n",
      "29    Drama, Keluarga Adly FairuzFaradilla YoshiDea ...\n",
      "30    Roman, Drama Tyas MirasihBastian SteelAndrew A...\n",
      "31    Drama, Roman Icha AnisaAditya HerpaviKenya Nin...\n",
      "32    Drama,Keluarga Ciara Nadine BrosnanDude Harlin...\n",
      "33    Drama,Roman Christ LaurentAlisia RinintaElina ...\n",
      "34    Drama, Laga, Fantasi, Kolosal Alwi AssegafJona...\n",
      "35    Roman, Drama Samuel ZylgwynShanice MargarethaD...\n",
      "36    Komedi,Fantasi Adib AsseggaffFachri MuhammadFi...\n",
      "37    Drama,Roman Masayu AnastasiaTemmy RahadiGeorgi...\n",
      "38    Drama,Olahraga Darren Rafid KhairanZayyan Sakh...\n",
      "39    Komedi Lulu ZakariaFadlan MuhammadZora Vidyana...\n",
      "40    Drama,Roman Fay NabilaLian FirmanVoke Victoria...\n",
      "41    Roman,Remaja Sitha MarinoArbani YasizKenzo Def...\n",
      "42    Drama,Roman Rosiana Dewi  Nasya Marcella  Eza ...\n",
      "43    Drama, Laga, Fantasi, Kolosal Rico Verald  Dim...\n",
      "44    Komedi, Roman Ersya Aurelia  Endy Arfian  Dian...\n",
      "45    Roman Angelica Simperler  Bryan Andrew  Rendy ...\n",
      "46    Seri web, Drama, Roman Tissa Biani  Rizky Naza...\n",
      "47    Seri web,Drama,Komedi,Remaja Bayu SkakJoshua S...\n",
      "48    Seri web,Komedi Chew KinwahErnest PrakasaAwweA...\n",
      "49    Drama,Roman Megan DomaniFarhan RasyidEl ManikE...\n",
      "50    Seri web, Roman Reza RahardianPrilly Latuconsi...\n",
      "51    Drama,Roman Angela GilshaAchmad MegantaraDylan...\n",
      "52    Drama,Roman,Laga Anrez AdelioErsya AureliaAdit...\n",
      "53    Seri web, Roman Natasha WilonaAhmad Al Ghazali...\n",
      "dtype: object\n"
     ]
    }
   ],
   "source": [
    "combined_features = movies_data['Genre'] + ' ' +movies_data['Pemeran'] + ' ' +movies_data['Produksi']\n",
    "print(combined_features)"
   ]
  },
  {
   "cell_type": "code",
   "execution_count": 8,
   "id": "6acb3d39",
   "metadata": {},
   "outputs": [],
   "source": [
    "vectorizer = TfidfVectorizer()"
   ]
  },
  {
   "cell_type": "code",
   "execution_count": 9,
   "id": "ea261682",
   "metadata": {},
   "outputs": [],
   "source": [
    "feature_vectors = vectorizer.fit_transform(combined_features)"
   ]
  },
  {
   "cell_type": "code",
   "execution_count": 10,
   "id": "a458893a",
   "metadata": {},
   "outputs": [
    {
     "name": "stdout",
     "output_type": "stream",
     "text": [
      "  (0, 36)\t0.24639686556412985\n",
      "  (0, 235)\t0.25763420649153296\n",
      "  (0, 207)\t0.3289385996914405\n",
      "  (0, 108)\t0.3630605358476058\n",
      "  (0, 33)\t0.3630605358476058\n",
      "  (0, 195)\t0.3630605358476058\n",
      "  (0, 329)\t0.3630605358476058\n",
      "  (0, 322)\t0.3630605358476058\n",
      "  (0, 258)\t0.3047287007058678\n",
      "  (0, 95)\t0.11308516010089506\n",
      "  (1, 201)\t0.21523640763068422\n",
      "  (1, 233)\t0.16887416646588244\n",
      "  (1, 200)\t0.19159549742042384\n",
      "  (1, 46)\t0.34445816199795276\n",
      "  (1, 38)\t0.3801899959122139\n",
      "  (1, 128)\t0.3801899959122139\n",
      "  (1, 148)\t0.3801899959122139\n",
      "  (1, 271)\t0.3801899959122139\n",
      "  (1, 63)\t0.3801899959122139\n",
      "  (1, 164)\t0.18179367763052826\n",
      "  (1, 95)\t0.11842060017929892\n",
      "  (2, 270)\t0.21928342356179895\n",
      "  (2, 280)\t0.256050071265967\n",
      "  (2, 154)\t0.4233278089075571\n",
      "  (2, 61)\t0.4233278089075571\n",
      "  :\t:\n",
      "  (52, 296)\t0.4088732494048592\n",
      "  (52, 47)\t0.4088732494048592\n",
      "  (52, 3)\t0.4088732494048592\n",
      "  (52, 35)\t0.4088732494048592\n",
      "  (52, 132)\t0.3704456442684734\n",
      "  (52, 257)\t0.17740192029568877\n",
      "  (52, 167)\t0.26632561425184087\n",
      "  (52, 233)\t0.18161479766917832\n",
      "  (52, 200)\t0.20605032863546827\n",
      "  (52, 95)\t0.12735478606060843\n",
      "  (53, 144)\t0.2910392572061887\n",
      "  (53, 292)\t0.2910392572061887\n",
      "  (53, 138)\t0.2910392572061887\n",
      "  (53, 243)\t0.2910392572061887\n",
      "  (53, 123)\t0.2910392572061887\n",
      "  (53, 13)\t0.2910392572061887\n",
      "  (53, 328)\t0.2910392572061887\n",
      "  (53, 217)\t0.2910392572061887\n",
      "  (53, 309)\t0.24427886246515496\n",
      "  (53, 306)\t0.24427886246515496\n",
      "  (53, 321)\t0.21692578502273147\n",
      "  (53, 273)\t0.21692578502273147\n",
      "  (53, 257)\t0.12627610924647384\n",
      "  (53, 112)\t0.1824649829289592\n",
      "  (53, 149)\t0.24427886246515496\n"
     ]
    }
   ],
   "source": [
    "print(feature_vectors)"
   ]
  },
  {
   "cell_type": "code",
   "execution_count": 11,
   "id": "607a02e5",
   "metadata": {},
   "outputs": [
    {
     "name": "stdout",
     "output_type": "stream",
     "text": [
      "[[1.         0.01339161 0.01491108 ... 0.01588088 0.01440194 0.        ]\n",
      " [0.01339161 1.         0.05241339 ... 0.01663015 0.08522979 0.        ]\n",
      " [0.01491108 0.05241339 1.         ... 0.1395554  0.01679263 0.        ]\n",
      " ...\n",
      " [0.01588088 0.01663015 0.1395554  ... 1.         0.05258806 0.02470206]\n",
      " [0.01440194 0.08522979 0.01679263 ... 0.05258806 1.         0.02240162]\n",
      " [0.         0.         0.         ... 0.02470206 0.02240162 1.        ]]\n"
     ]
    }
   ],
   "source": [
    "similarity = cosine_similarity(feature_vectors)\n",
    "print(similarity)"
   ]
  },
  {
   "cell_type": "code",
   "execution_count": 12,
   "id": "3a9943a6",
   "metadata": {},
   "outputs": [
    {
     "name": "stdout",
     "output_type": "stream",
     "text": [
      "(54, 54)\n"
     ]
    }
   ],
   "source": [
    "print(similarity.shape)"
   ]
  },
  {
   "cell_type": "code",
   "execution_count": 13,
   "id": "5d3d9b2a",
   "metadata": {},
   "outputs": [
    {
     "name": "stdout",
     "output_type": "stream",
     "text": [
      " Enter Your Favourite Movie Name: Preman Pensiun 5\n"
     ]
    }
   ],
   "source": [
    "movie_name = input(' Enter Your Favourite Movie Name: ')"
   ]
  },
  {
   "cell_type": "code",
   "execution_count": 14,
   "id": "8f774fbe",
   "metadata": {},
   "outputs": [
    {
     "name": "stdout",
     "output_type": "stream",
     "text": [
      "['Aku Bukan Dia', 'Pulung', 'Cinta Nikita', 'Buku Harian Seorang Istri', 'Love Story the Series', 'Kulepas Dengan Ikhlas', 'Mega Series Suara Hati Istri', 'Jodoh Wasiat Bapak Babak 2', 'Emak Gue Jagoan 3', 'Cinta untuk Bunda', 'Kun Anta Mendadak Santri', 'Bismillah Cinta', 'Amanah Wali 5', 'Preman Pensiun 5', 'Magic Tasbih', 'Para Pencari Tuhan (Jilid 14)', 'Rumah Bidadari', 'Setinggi Bintang di Langit', 'Raden Kian Santang: Prahara di Langit Pajajaran', 'Mega Series Suara Hati Istri: Zahra', 'Badai Pasti Berlalu', 'Keajaiban Cinta', 'Tiara Cinta', 'Cerita Kita', 'Mega Series Suara Hati Istri: Anjani', 'Jali Preman Sholeh ', 'Betawi Boy', '17+', 'Jafar', 'Berbagi Suami the Series', 'Butir-Butir Pasir di Laut', 'Mega Series Suara Hati: Nur', 'Cinta Amara', 'Terpaksa Menikahi Tuan Muda', 'Raden Kian Santang: Mahkota Baru Pajajaran', 'Naluri Hati', 'Mat Kriwil', 'Mega Series Suara Hati: Kayla Season 2', 'Kuraih Bintang', '1 Atap 5 Keluarga', 'Istri Impian', 'IPA & IPS', 'Suci dalam Cinta', 'Tutur Tinular', 'Kejebak Kawin', 'Cinta di dalam Perjodohan', 'Cinta Fitri', 'Yowis Ben the Series', 'Cek Toko Sebelah: Babak Baru', 'My Love My Enemy', 'My Lecturer My Husband', 'Dewi Rindu', 'Anak Jalanan: A New Beginning', 'Little Mom']\n"
     ]
    }
   ],
   "source": [
    "list_of_all_titles = movies_data['title'].tolist()\n",
    "print(list_of_all_titles)"
   ]
  },
  {
   "cell_type": "code",
   "execution_count": 15,
   "id": "2ea75f4c",
   "metadata": {},
   "outputs": [
    {
     "name": "stdout",
     "output_type": "stream",
     "text": [
      "['Preman Pensiun 5']\n"
     ]
    }
   ],
   "source": [
    "find_close_match = difflib.get_close_matches(movie_name, list_of_all_titles)\n",
    "print(find_close_match)"
   ]
  },
  {
   "cell_type": "code",
   "execution_count": 16,
   "id": "9f374d0e",
   "metadata": {},
   "outputs": [
    {
     "name": "stdout",
     "output_type": "stream",
     "text": [
      "Preman Pensiun 5\n"
     ]
    }
   ],
   "source": [
    "close_match = find_close_match[0]\n",
    "print(close_match)"
   ]
  },
  {
   "cell_type": "code",
   "execution_count": 17,
   "id": "e469a874",
   "metadata": {},
   "outputs": [
    {
     "name": "stdout",
     "output_type": "stream",
     "text": [
      "14\n"
     ]
    }
   ],
   "source": [
    "index_of_the_movie = movies_data[movies_data.title == close_match]['index'].values[0]\n",
    "print(index_of_the_movie)"
   ]
  },
  {
   "cell_type": "code",
   "execution_count": 18,
   "id": "a249e653",
   "metadata": {},
   "outputs": [
    {
     "name": "stdout",
     "output_type": "stream",
     "text": [
      "[(0, 0.16093901362407215), (1, 0.04205511063256896), (2, 0.08540914485954552), (3, 0.049239469800028066), (4, 0.05948833229870379), (5, 0.013692569544945327), (6, 0.01441592865002319), (7, 0.034643363774484556), (8, 0.16390800456526736), (9, 0.012073337233209346), (10, 0.03887269733378422), (11, 0.21543703286420487), (12, 0.0288719930793805), (13, 0.027361589418552247), (14, 0.9999999999999999), (15, 0.0681304466728113), (16, 0.07313749559014679), (17, 0.06079380959318756), (18, 0.0539114022228404), (19, 0.011910111740350907), (20, 0.05100488924548263), (21, 0.05594925477363981), (22, 0.0813745840710627), (23, 0.06747674654262607), (24, 0.013716475658299705), (25, 0.01977431259394035), (26, 0.010810036318157613), (27, 0.07647655828659675), (28, 0.012355260651696539), (29, 0.06961657910980527), (30, 0.012926863247108658), (31, 0.011201004704883033), (32, 0.04550845611369659), (33, 0.01444681003706907), (34, 0.05631977188238595), (35, 0.05100488924548263), (36, 0.07111136264060187), (37, 0.013012191807930297), (38, 0.009565405731354476), (39, 0.02391117336942271), (40, 0.012499077371926431), (41, 0.0), (42, 0.03944016810056103), (43, 0.05023931473777921), (44, 0.02605248423549818), (45, 0.0), (46, 0.010342861796740172), (47, 0.17191588114217807), (48, 0.17021601593513636), (49, 0.05100488924548263), (50, 0.0), (51, 0.05594925477363981), (52, 0.013473956886303222), (53, 0.0)]\n"
     ]
    }
   ],
   "source": [
    "similarity_score = list(enumerate(similarity[index_of_the_movie]))\n",
    "print(similarity_score)"
   ]
  },
  {
   "cell_type": "code",
   "execution_count": 19,
   "id": "d1fc8cf7",
   "metadata": {},
   "outputs": [
    {
     "data": {
      "text/plain": [
       "54"
      ]
     },
     "execution_count": 19,
     "metadata": {},
     "output_type": "execute_result"
    }
   ],
   "source": [
    "len(similarity_score)"
   ]
  },
  {
   "cell_type": "code",
   "execution_count": 20,
   "id": "84d03967",
   "metadata": {},
   "outputs": [
    {
     "name": "stdout",
     "output_type": "stream",
     "text": [
      "[(14, 0.9999999999999999), (11, 0.21543703286420487), (47, 0.17191588114217807), (48, 0.17021601593513636), (8, 0.16390800456526736), (0, 0.16093901362407215), (2, 0.08540914485954552), (22, 0.0813745840710627), (27, 0.07647655828659675), (16, 0.07313749559014679), (36, 0.07111136264060187), (29, 0.06961657910980527), (15, 0.0681304466728113), (23, 0.06747674654262607), (17, 0.06079380959318756), (4, 0.05948833229870379), (34, 0.05631977188238595), (21, 0.05594925477363981), (51, 0.05594925477363981), (18, 0.0539114022228404), (20, 0.05100488924548263), (35, 0.05100488924548263), (49, 0.05100488924548263), (43, 0.05023931473777921), (3, 0.049239469800028066), (32, 0.04550845611369659), (1, 0.04205511063256896), (42, 0.03944016810056103), (10, 0.03887269733378422), (7, 0.034643363774484556), (12, 0.0288719930793805), (13, 0.027361589418552247), (44, 0.02605248423549818), (39, 0.02391117336942271), (25, 0.01977431259394035), (33, 0.01444681003706907), (6, 0.01441592865002319), (24, 0.013716475658299705), (5, 0.013692569544945327), (52, 0.013473956886303222), (37, 0.013012191807930297), (30, 0.012926863247108658), (40, 0.012499077371926431), (28, 0.012355260651696539), (9, 0.012073337233209346), (19, 0.011910111740350907), (31, 0.011201004704883033), (26, 0.010810036318157613), (46, 0.010342861796740172), (38, 0.009565405731354476), (41, 0.0), (45, 0.0), (50, 0.0), (53, 0.0)]\n"
     ]
    }
   ],
   "source": [
    "sorted_similar_movies = sorted(similarity_score, key = lambda x:x[1], reverse = True)\n",
    "print(sorted_similar_movies)"
   ]
  },
  {
   "cell_type": "code",
   "execution_count": 21,
   "id": "c0157620",
   "metadata": {},
   "outputs": [
    {
     "name": "stdout",
     "output_type": "stream",
     "text": [
      "Movies Suggested For You: \n",
      "\n",
      "1  . Magic Tasbih\n",
      "2  . Bismillah Cinta\n",
      "3  . Yowis Ben the Series\n",
      "4  . Cek Toko Sebelah: Babak Baru\n",
      "5  . Emak Gue Jagoan 3\n",
      "6  . Aku Bukan Dia\n",
      "7  . Cinta Nikita\n",
      "8  . Tiara Cinta\n",
      "9  . 17+\n"
     ]
    }
   ],
   "source": [
    "print('Movies Suggested For You: \\n')\n",
    "\n",
    "i = 1\n",
    "\n",
    "for movie in sorted_similar_movies:\n",
    "    index = movie[0]\n",
    "    title_from_index = movies_data[movies_data.index==index]['title'].values[0]\n",
    "    if (i<10):\n",
    "        print(i, ' .', title_from_index)\n",
    "        i+=1"
   ]
  },
  {
   "cell_type": "markdown",
   "id": "6a984315",
   "metadata": {},
   "source": [
    "# Indonesian Series Movies Recommendation System"
   ]
  },
  {
   "cell_type": "code",
   "execution_count": 22,
   "id": "a419395c",
   "metadata": {},
   "outputs": [
    {
     "name": "stdout",
     "output_type": "stream",
     "text": [
      "Enter your favourite Indonesian Series Movies: Preman Pensiun 5\n",
      "Movies suggested for you: \n",
      "\n",
      "1  . Magic Tasbih\n",
      "2  . Bismillah Cinta\n",
      "3  . Yowis Ben the Series\n",
      "4  . Cek Toko Sebelah: Babak Baru\n",
      "5  . Emak Gue Jagoan 3\n",
      "6  . Aku Bukan Dia\n",
      "7  . Cinta Nikita\n",
      "8  . Tiara Cinta\n",
      "9  . 17+\n"
     ]
    }
   ],
   "source": [
    "movie_name = input(\"Enter your favourite Indonesian Series Movies: \")\n",
    "list_of_all_titles = movies_data['title'].tolist()\n",
    "find_close_match = difflib.get_close_matches(movie_name, list_of_all_titles)\n",
    "close_match = find_close_match[0]\n",
    "index_of_the_movie = movies_data[movies_data.title == close_match]['index'].values[0]\n",
    "sorted_similar_movies = sorted(similarity_score, key = lambda x:x[1], reverse = True)\n",
    "print('Movies suggested for you: \\n')\n",
    "\n",
    "i=1\n",
    "\n",
    "for movie in sorted_similar_movies:\n",
    "    index = movie[0]\n",
    "    title_from_index = movies_data[movies_data.index==index]['title'].values[0]\n",
    "    if (i<10):\n",
    "        print(i, ' .', title_from_index)\n",
    "        i+=1"
   ]
  },
  {
   "cell_type": "code",
   "execution_count": 24,
   "id": "3c93c7fd",
   "metadata": {},
   "outputs": [
    {
     "name": "stdout",
     "output_type": "stream",
     "text": [
      "0     Aku Bukan Dia . Drama,  Romantis . Wendy Wilso...\n",
      "1     Pulung . Drama komedi . Bima Sena Jerico Gowta...\n",
      "2     Cinta Nikita . Drama,  Percintaan, Komedi . Ni...\n",
      "3     Buku Harian Seorang Istri . Drama,  Percintaan...\n",
      "4     Love Story the Series . Drama,  Percintaan . G...\n",
      "5     Kulepas Dengan Ikhlas . Drama,  Percintaan . R...\n",
      "6     Mega Series Suara Hati Istri . Drama . Masayu ...\n",
      "7     Jodoh Wasiat Bapak Babak 2 . Horor,  Supranatu...\n",
      "8     Emak Gue Jagoan 3 . Laga,  Fantasi . Nova Eliz...\n",
      "9     Cinta untuk Bunda . Drama,  Keluarga . Jonatha...\n",
      "10    Kun Anta Mendadak Santri . Drama,Komedi . Rifk...\n",
      "11    Bismillah Cinta . Drama, Komedi Romantis, Reli...\n",
      "12    Amanah Wali 5 . Komedi . Farhan Zainal Muttaqi...\n",
      "13    Preman Pensiun 5 . Komedi . Epy KusnandarFajar...\n",
      "14    Magic Tasbih . Drama, Fantasi, Komedi Romantis...\n",
      "15    Para Pencari Tuhan (Jilid 14) . Komedi . Deddy...\n",
      "16    Rumah Bidadari . Roman, Komedi . Adinda AzaniL...\n",
      "17    Setinggi Bintang di Langit . Fantasi, Roman . ...\n",
      "18    Raden Kian Santang: Prahara di Langit Pajajara...\n",
      "19    Mega Series Suara Hati Istri: Zahra . Drama, R...\n",
      "20    Badai Pasti Berlalu . Roman, Drama . Stefan Wi...\n",
      "21    Keajaiban Cinta . Roman, Drama . Aliando Syari...\n",
      "22    Tiara Cinta . Fantasi,  Drama . Cita CitataBry...\n",
      "23    Cerita Kita . Drama, Komedi . Kevin JulioYunit...\n",
      "24    Mega Series Suara Hati Istri: Anjani . Drama, ...\n",
      "25    Jali Preman Sholeh  . Komedi, Laga . Nasar Anu...\n",
      "26    Betawi Boy . Drama, Laga . Zacky ZimahRey Bong...\n",
      "27    17+ . Drama, Komedi . Latief SitepuMerry Musta...\n",
      "28    Jafar . Drama, Laga . Andi SultanFadlan Muhamm...\n",
      "29    Berbagi Suami the Series . Drama, Keluarga . A...\n",
      "30    Butir-Butir Pasir di Laut . Roman, Drama . Tya...\n",
      "31    Mega Series Suara Hati: Nur . Drama, Roman . I...\n",
      "32    Cinta Amara . Drama,Keluarga . Ciara Nadine Br...\n",
      "33    Terpaksa Menikahi Tuan Muda . Drama,Roman . Ch...\n",
      "34    Raden Kian Santang: Mahkota Baru Pajajaran . D...\n",
      "35    Naluri Hati . Roman, Drama . Samuel ZylgwynSha...\n",
      "36    Mat Kriwil . Komedi,Fantasi . Adib AsseggaffFa...\n",
      "37    Mega Series Suara Hati: Kayla Season 2 . Drama...\n",
      "38    Kuraih Bintang . Drama,Olahraga . Darren Rafid...\n",
      "39    1 Atap 5 Keluarga . Komedi . Lulu ZakariaFadla...\n",
      "40    Istri Impian . Drama,Roman . Fay NabilaLian Fi...\n",
      "41    IPA & IPS . Roman,Remaja . Sitha MarinoArbani ...\n",
      "42    Suci dalam Cinta . Drama,Roman . Rosiana Dewi ...\n",
      "43    Tutur Tinular . Drama, Laga, Fantasi, Kolosal ...\n",
      "44    Kejebak Kawin . Komedi, Roman . Ersya Aurelia ...\n",
      "45    Cinta di dalam Perjodohan . Roman . Angelica S...\n",
      "46    Cinta Fitri . Seri web, Drama, Roman . Tissa B...\n",
      "47    Yowis Ben the Series . Seri web,Drama,Komedi,R...\n",
      "48    Cek Toko Sebelah: Babak Baru . Seri web,Komedi...\n",
      "49    My Love My Enemy . Drama,Roman . Megan DomaniF...\n",
      "50    My Lecturer My Husband . Seri web, Roman . Rez...\n",
      "51    Dewi Rindu . Drama,Roman . Angela GilshaAchmad...\n",
      "52    Anak Jalanan: A New Beginning . Drama,Roman,La...\n",
      "53    Little Mom . Seri web, Roman . Natasha WilonaA...\n",
      "dtype: object\n",
      "Enter your favourite Indonesian Series Movies: Preman Pensiun 5\n",
      "Movies suggested for you: \n",
      "\n",
      "1  . Magic Tasbih\n",
      "2  . Bismillah Cinta\n",
      "3  . Yowis Ben the Series\n",
      "4  . Cek Toko Sebelah: Babak Baru\n",
      "5  . Emak Gue Jagoan 3\n",
      "6  . Aku Bukan Dia\n",
      "7  . Cinta Nikita\n",
      "8  . Tiara Cinta\n",
      "9  . 17+\n",
      "10  . Rumah Bidadari\n"
     ]
    }
   ],
   "source": [
    "mauapa = movies_data['title'] + ' . ' +movies_data['Genre'] + ' . ' +movies_data['Pemeran'] + ' . ' +movies_data['Produksi']\n",
    "print(mauapa)\n",
    "\n",
    "movie_name = input(\"Enter your favourite Indonesian Series Movies: \")\n",
    "list_of_all_titles = movies_data['title'].tolist()\n",
    "find_close_match = difflib.get_close_matches(movie_name, list_of_all_titles)\n",
    "close_match = find_close_match[0]\n",
    "index_of_the_movie = movies_data[movies_data.title == close_match]['index'].values[0]\n",
    "sorted_similar_movies = sorted(similarity_score, key = lambda x:x[1], reverse = True)\n",
    "print('Movies suggested for you: \\n')\n",
    "\n",
    "i=1\n",
    "\n",
    "for movie in sorted_similar_movies:\n",
    "    index = movie[0]\n",
    "    title_from_index = movies_data[movies_data.index==index]['title'].values[0]\n",
    "    if (i<11):\n",
    "        print(i, ' .', title_from_index)\n",
    "        i+=1"
   ]
  },
  {
   "cell_type": "code",
   "execution_count": null,
   "id": "f3d174d1",
   "metadata": {},
   "outputs": [],
   "source": []
  }
 ],
 "metadata": {
  "kernelspec": {
   "display_name": "Python 3 (ipykernel)",
   "language": "python",
   "name": "python3"
  },
  "language_info": {
   "codemirror_mode": {
    "name": "ipython",
    "version": 3
   },
   "file_extension": ".py",
   "mimetype": "text/x-python",
   "name": "python",
   "nbconvert_exporter": "python",
   "pygments_lexer": "ipython3",
   "version": "3.8.5"
  }
 },
 "nbformat": 4,
 "nbformat_minor": 5
}
